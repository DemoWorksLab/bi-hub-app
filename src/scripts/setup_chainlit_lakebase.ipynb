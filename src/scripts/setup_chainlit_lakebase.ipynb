{
 "cells": [
  {
   "cell_type": "code",
   "execution_count": 0,
   "metadata": {
    "application/vnd.databricks.v1+cell": {
     "cellMetadata": {
      "byteLimit": 2048000,
      "rowLimit": 10000
     },
     "inputWidgets": {},
     "nuid": "bfa48cfc-ca4c-42b2-bff3-b14a58759d74",
     "showTitle": false,
     "tableResultSettingsMap": {},
     "title": ""
    }
   },
   "outputs": [],
   "source": [
    "# Add widgets for database connection parameters\n",
    "dbutils.widgets.text(\"instance_name\", \"\", \"Database Instance Name\")\n",
    "dbutils.widgets.text(\"port\", \"5432\", \"Port\")\n",
    "dbutils.widgets.text(\"database\", \"\", \"Database\")\n",
    "dbutils.widgets.text(\"app_name\", \"bi-agent\", \"App Name\")\n",
    "dbutils.widgets.dropdown(\"sslmode\", \"require\", [\"disable\", \"allow\", \"prefer\", \"require\", \"verify-ca\", \"verify-full\"], \"SSL Mode\")"
   ]
  },
  {
   "cell_type": "code",
   "execution_count": 0,
   "metadata": {
    "application/vnd.databricks.v1+cell": {
     "cellMetadata": {
      "byteLimit": 2048000,
      "rowLimit": 10000
     },
     "inputWidgets": {},
     "nuid": "5c1dd0ce-152d-4c91-ad29-e520ead67ff1",
     "showTitle": false,
     "tableResultSettingsMap": {},
     "title": ""
    }
   },
   "outputs": [],
   "source": [
    "from sqlalchemy import create_engine, text\n",
    "from databricks.sdk import WorkspaceClient\n",
    "import uuid\n",
    "\n",
    "w = WorkspaceClient()\n",
    "\n",
    "instance_name = dbutils.widgets.get(\"instance_name\")\n",
    "instance = w.database.get_database_instance(name=instance_name)\n",
    "\n",
    "host = instance.read_write_dns\n",
    "port = dbutils.widgets.get(\"port\")\n",
    "user = w.current_user.me().user_name\n",
    "database = dbutils.widgets.get(\"database\")\n",
    "sslmode = dbutils.widgets.get(\"sslmode\")\n",
    "\n",
    "print(f\"instance_name:{instance_name}, instance:{instance}, host:{host}, port:{port}, user:{user}, database:{database}, sslmode:{sslmode}\")"
   ]
  },
  {
   "cell_type": "code",
   "execution_count": 0,
   "metadata": {
    "application/vnd.databricks.v1+cell": {
     "cellMetadata": {
      "byteLimit": 2048000,
      "rowLimit": 10000
     },
     "inputWidgets": {},
     "nuid": "a7fe19b8-b88e-4728-a6e7-1882dbcb67c3",
     "showTitle": false,
     "tableResultSettingsMap": {},
     "title": ""
    }
   },
   "outputs": [
    {
     "name": "stdout",
     "output_type": "stream",
     "text": [
      "Connected to PostgreSQL database. Version: ('PostgreSQL 16.9 on x86_64-pc-linux-gnu, compiled by gcc (Ubuntu 11.4.0-1ubuntu1~22.04) 11.4.0, 64-bit',)\n"
     ]
    }
   ],
   "source": [
    "import uuid\n",
    "cred = w.database.generate_database_credential(request_id=str(uuid.uuid4()), instance_names=[instance_name])\n",
    "password = cred.token\n",
    "\n",
    "connection_pool = create_engine(f\"postgresql://{user}:{password}@{host}:{port}/{database}?sslmode={sslmode}\")\n",
    "\n",
    "\n",
    "with connection_pool.connect() as conn:\n",
    "    result = conn.execute(text(\"SELECT version()\"))\n",
    "    for row in result:\n",
    "        print(f\"Connected to PostgreSQL database. Version: {row}\")"
   ]
  },
  {
   "cell_type": "code",
   "execution_count": 0,
   "metadata": {
    "application/vnd.databricks.v1+cell": {
     "cellMetadata": {
      "byteLimit": 2048000,
      "rowLimit": 10000
     },
     "inputWidgets": {},
     "nuid": "96d2dc34-5048-4fa9-b998-ab20499a6595",
     "showTitle": false,
     "tableResultSettingsMap": {},
     "title": ""
    }
   },
   "outputs": [
    {
     "name": "stderr",
     "output_type": "stream",
     "text": [
      "INFO:py4j.clientserver:Received command c on object id p0\n"
     ]
    }
   ],
   "source": [
    "def create_sync_engine():\n",
    "  cred = w.database.generate_database_credential(request_id=str(uuid.uuid4()), instance_names=[instance_name])\n",
    "  password = cred.token\n",
    "  connection_string = f\"postgresql://{user}:{password}@{host}:{port}/{database}?sslmode={sslmode}\"\n",
    "  postgres_pool = create_engine(connection_string)\n",
    "\n",
    "  return postgres_pool"
   ]
  },
  {
   "cell_type": "code",
   "execution_count": 0,
   "metadata": {
    "application/vnd.databricks.v1+cell": {
     "cellMetadata": {
      "byteLimit": 2048000,
      "rowLimit": 10000
     },
     "inputWidgets": {},
     "nuid": "38c04046-2d37-468e-ac55-eccdd50f56cc",
     "showTitle": false,
     "tableResultSettingsMap": {},
     "title": ""
    }
   },
   "outputs": [
    {
     "name": "stderr",
     "output_type": "stream",
     "text": [
      "INFO:py4j.clientserver:Received command c on object id p0\n"
     ]
    }
   ],
   "source": [
    "def check_table_exists(engine, table_name):\n",
    "    \"\"\"Check if a table exists in the database\"\"\"\n",
    "    query = text(\"\"\"\n",
    "    SELECT EXISTS (\n",
    "        SELECT FROM information_schema.tables \n",
    "        WHERE table_schema = 'public' \n",
    "        AND table_name = :table_name\n",
    "    );\n",
    "    \"\"\")\n",
    "    with engine.connect() as conn:\n",
    "      result = conn.execute(query, {\"table_name\": table_name})\n",
    "    return result.scalar()"
   ]
  },
  {
   "cell_type": "code",
   "execution_count": 0,
   "metadata": {
    "application/vnd.databricks.v1+cell": {
     "cellMetadata": {
      "byteLimit": 2048000,
      "rowLimit": 10000
     },
     "inputWidgets": {},
     "nuid": "40c4174a-af88-42a0-9c1d-ab81e1436ed1",
     "showTitle": false,
     "tableResultSettingsMap": {},
     "title": ""
    }
   },
   "outputs": [],
   "source": [
    "def get_existing_tables(engine):\n",
    "    \"\"\"Get list of existing Chainlit tables\"\"\"\n",
    "    query = text(\"\"\"\n",
    "    SELECT table_name\n",
    "    FROM information_schema.tables \n",
    "    WHERE table_schema = 'public' \n",
    "    AND table_name IN ('users', 'threads', 'steps', 'elements', 'feedbacks', 'chat_sessions')\n",
    "    ORDER BY table_name;\n",
    "    \"\"\")\n",
    "    with engine.connect() as conn:\n",
    "        result = conn.execute(query)\n",
    "        return [row[0] for row in result.fetchall()]"
   ]
  },
  {
   "cell_type": "code",
   "execution_count": 0,
   "metadata": {
    "application/vnd.databricks.v1+cell": {
     "cellMetadata": {
      "byteLimit": 2048000,
      "rowLimit": 10000
     },
     "inputWidgets": {},
     "nuid": "31ed163e-1ae6-466c-b3e2-f0bcd784596b",
     "showTitle": false,
     "tableResultSettingsMap": {},
     "title": ""
    }
   },
   "outputs": [],
   "source": [
    "def setup_chainlit_schema(engine):\n",
    "    \"\"\"Set up the official Chainlit SQLAlchemy schema\"\"\"\n",
    "    try:        \n",
    "        # Check existing tables\n",
    "        print(\"🔍 Checking existing tables...\")\n",
    "        existing_tables = get_existing_tables(engine)\n",
    "            \n",
    "        if existing_tables:\n",
    "            print(f\"📋 Found existing tables: {', '.join(existing_tables)}\")\n",
    "            print(\"⚠️  Tables already exist. Skipping table creation.\")\n",
    "            print(\"✅ Schema setup complete (tables already exist)!\")\n",
    "            return\n",
    "        \n",
    "        print(\"📝 No existing tables found. Proceeding with table creation...\")\n",
    "        \n",
    "        # Drop existing tables (safety measure)\n",
    "        # print(\"🗑️ Dropping any existing tables...\")\n",
    "        # with engine.connect() as conn:\n",
    "        #     conn.execute(text('DROP TABLE IF EXISTS feedbacks CASCADE;'))\n",
    "        #     conn.execute(text('DROP TABLE IF EXISTS elements CASCADE;'))\n",
    "        #     conn.execute(text('DROP TABLE IF EXISTS steps CASCADE;'))\n",
    "        #     conn.execute(text('DROP TABLE IF EXISTS threads CASCADE;'))\n",
    "        #     conn.execute(text('DROP TABLE IF EXISTS users CASCADE;'))\n",
    "        #     conn.execute(text('DROP TABLE IF EXISTS chat_sessions CASCADE;'))\n",
    "        #     conn.commit()\n",
    "        # print(\"✅ Cleaned up any existing tables\")\n",
    "        \n",
    "        # Create official Chainlit schema\n",
    "        print(\"🔨 Creating official Chainlit schema...\")\n",
    "        schema_sql = text('''\n",
    "        CREATE TABLE IF NOT EXISTS users (\n",
    "            \"id\" UUID PRIMARY KEY,\n",
    "            \"identifier\" TEXT NOT NULL UNIQUE,\n",
    "            \"metadata\" JSONB NOT NULL,\n",
    "            \"createdAt\" TEXT\n",
    "        );\n",
    "\n",
    "        CREATE TABLE IF NOT EXISTS threads (\n",
    "            \"id\" UUID PRIMARY KEY,\n",
    "            \"createdAt\" TEXT,\n",
    "            \"name\" TEXT,\n",
    "            \"userId\" UUID,\n",
    "            \"userIdentifier\" TEXT,\n",
    "            \"tags\" TEXT[],\n",
    "            \"metadata\" JSONB,\n",
    "            FOREIGN KEY (\"userId\") REFERENCES users(\"id\") ON DELETE CASCADE\n",
    "        );\n",
    "\n",
    "        CREATE TABLE IF NOT EXISTS steps (\n",
    "            \"id\" UUID PRIMARY KEY,\n",
    "            \"name\" TEXT NOT NULL,\n",
    "            \"type\" TEXT NOT NULL,\n",
    "            \"threadId\" UUID NOT NULL,\n",
    "            \"parentId\" UUID,\n",
    "            \"streaming\" BOOLEAN NOT NULL,\n",
    "            \"waitForAnswer\" BOOLEAN,\n",
    "            \"isError\" BOOLEAN,\n",
    "            \"metadata\" JSONB,\n",
    "            \"tags\" TEXT[],\n",
    "            \"input\" TEXT,\n",
    "            \"output\" TEXT,\n",
    "            \"createdAt\" TEXT,\n",
    "            \"command\" TEXT,\n",
    "            \"start\" TEXT,\n",
    "            \"end\" TEXT,\n",
    "            \"generation\" JSONB,\n",
    "            \"showInput\" TEXT,\n",
    "            \"language\" TEXT,\n",
    "            \"indent\" INT,\n",
    "            \"defaultOpen\" BOOLEAN,\n",
    "            FOREIGN KEY (\"threadId\") REFERENCES threads(\"id\") ON DELETE CASCADE\n",
    "        );\n",
    "\n",
    "        CREATE TABLE IF NOT EXISTS elements (\n",
    "            \"id\" UUID PRIMARY KEY,\n",
    "            \"threadId\" UUID,\n",
    "            \"type\" TEXT,\n",
    "            \"url\" TEXT,\n",
    "            \"chainlitKey\" TEXT,\n",
    "            \"name\" TEXT NOT NULL,\n",
    "            \"display\" TEXT,\n",
    "            \"objectKey\" TEXT,\n",
    "            \"size\" TEXT,\n",
    "            \"page\" INT,\n",
    "            \"language\" TEXT,\n",
    "            \"forId\" UUID,\n",
    "            \"mime\" TEXT,\n",
    "            \"props\" JSONB,\n",
    "            FOREIGN KEY (\"threadId\") REFERENCES threads(\"id\") ON DELETE CASCADE\n",
    "        );\n",
    "\n",
    "        CREATE TABLE IF NOT EXISTS feedbacks (\n",
    "            \"id\" UUID PRIMARY KEY,\n",
    "            \"forId\" UUID NOT NULL,\n",
    "            \"threadId\" UUID NOT NULL,\n",
    "            \"value\" INT NOT NULL,\n",
    "            \"comment\" TEXT,\n",
    "            FOREIGN KEY (\"threadId\") REFERENCES threads(\"id\") ON DELETE CASCADE\n",
    "        );\n",
    "        ''')\n",
    "        \n",
    "        with engine.connect() as conn:\n",
    "            conn.execute(schema_sql)\n",
    "            conn.commit()\n",
    "        print(\"✅ Created official Chainlit schema\")\n",
    "        \n",
    "        # Verify tables were created successfully\n",
    "        print(\"🔍 Verifying table creation...\")\n",
    "        created_tables = get_existing_tables(engine)\n",
    "            \n",
    "        if created_tables:\n",
    "            print(f\"✅ Successfully verified tables: {', '.join(created_tables)}\")\n",
    "        else:\n",
    "            print(\"⚠️  Warning: No tables found after creation\")\n",
    "        \n",
    "        print(\"✅ Schema setup complete!\")\n",
    "        \n",
    "    except Exception as e:\n",
    "        print(f\"❌ Error setting up schema: {e}\")\n",
    "        import traceback\n",
    "        traceback.print_exc()"
   ]
  },
  {
   "cell_type": "code",
   "execution_count": 0,
   "metadata": {
    "application/vnd.databricks.v1+cell": {
     "cellMetadata": {
      "byteLimit": 2048000,
      "rowLimit": 10000
     },
     "inputWidgets": {},
     "nuid": "8f501ffe-84e7-4e5f-a6bd-c33075d6cd90",
     "showTitle": false,
     "tableResultSettingsMap": {},
     "title": ""
    }
   },
   "outputs": [
    {
     "name": "stdout",
     "output_type": "stream",
     "text": [
      "🔍 Checking existing tables...\n",
      "📝 No existing tables found. Proceeding with table creation...\n",
      "🔨 Creating official Chainlit schema...\n",
      "✅ Created official Chainlit schema\n",
      "🔍 Verifying table creation...\n",
      "✅ Successfully verified tables: elements, feedbacks, steps, threads, users\n",
      "✅ Schema setup complete!\n"
     ]
    }
   ],
   "source": [
    "engine = create_sync_engine()\n",
    "setup_chainlit_schema(engine)"
   ]
  },
  {
   "cell_type": "code",
   "execution_count": null,
   "metadata": {},
   "outputs": [],
   "source": [
    "app_name = dbutils.widgets.get(\"app_name\")\n",
    "app_id = w.apps.get(name=app_name).id\n",
    "\n",
    "def grant_schema_permissions(engine,app_id):\n",
    "    \"\"\"Grant permissions to the app\"\"\"\n",
    "    try:\n",
    "\n",
    "\n",
    "        schema_permission_sql = text(f\"\"\"\n",
    "        GRANT USAGE ON SCHEMA \"public\" TO \"{app_id}\";\n",
    "        \"\"\")\n",
    "\n",
    "        with engine.connect() as conn:\n",
    "            conn.execute(schema_permission_sql)\n",
    "            conn.commit()\n",
    "        \n",
    "        print(\"✅ Granted schema permissions\")\n",
    "    except Exception as e:\n",
    "        print(f\"❌ Error granting schema permissions: {e}\")\n",
    "        import traceback\n",
    "        traceback.print_exc()\n",
    "\n",
    "def grant_table_permissions(engine,app_id):\n",
    "    \"\"\"Grant permissions to the app\"\"\"\n",
    "    try:\n",
    "        for table in [\"elements\", \"feedbacks\", \"steps\", \"threads\", \"users\"]:\n",
    "            # Get the current user\n",
    "            sql = text(f\"\"\"\n",
    "            GRANT SELECT, INSERT, UPDATE, DELETE ON TABLE \"{database}\".\"public\".\"{table}\" TO \"{app_id}\";\n",
    "            \"\"\")\n",
    "\n",
    "            with engine.connect() as conn:\n",
    "                conn.execute(sql)\n",
    "                conn.commit()\n",
    "            \n",
    "            print(f\"✅ Granted table permissions for {table}\")\n",
    "                \n",
    "    except Exception as e:\n",
    "        print(f\"❌ Error granting table permissions: {e}\")\n",
    "        import traceback\n",
    "\n",
    "\n",
    "grant_schema_permissions(engine,app_id)\n",
    "grant_table_permissions(engine,app_id)"
   ]
  }
 ],
 "metadata": {
  "application/vnd.databricks.v1+notebook": {
   "computePreferences": {
    "hardware": {
     "accelerator": null,
     "gpuPoolId": null,
     "memory": null
    }
   },
   "dashboards": [],
   "environmentMetadata": {
    "base_environment": "",
    "dependencies": [
     "sqlalchemy==2.0.43",
     "psycopg[binary]==3.2.9",
     "databricks-sdk==0.65.0"
    ],
    "environment_version": "3"
   },
   "inputWidgetPreferences": null,
   "language": "python",
   "notebookMetadata": {
    "pythonIndentUnit": 2
   },
   "notebookName": "setup_chainlit_lakebase.ipynb",
   "widgets": {
    "database": {
     "currentValue": "databricks_postgres",
     "nuid": "2cf143fe-b91e-4bfd-854d-0e07c4241d53",
     "typedWidgetInfo": {
      "autoCreated": false,
      "defaultValue": "",
      "label": "Database",
      "name": "database",
      "options": {
       "validationRegex": null,
       "widgetDisplayType": "Text"
      },
      "parameterDataType": "String"
     },
     "widgetInfo": {
      "defaultValue": "",
      "label": "Database",
      "name": "database",
      "options": {
       "autoCreated": null,
       "validationRegex": null,
       "widgetType": "text"
      },
      "widgetType": "text"
     }
    },
    "instance_name": {
     "currentValue": "bi-agent-chat-session",
     "nuid": "922f95a4-0445-4a50-9bca-d67ae6c6bffb",
     "typedWidgetInfo": {
      "autoCreated": false,
      "defaultValue": "",
      "label": "Database Instance Name",
      "name": "instance_name",
      "options": {
       "validationRegex": null,
       "widgetDisplayType": "Text"
      },
      "parameterDataType": "String"
     },
     "widgetInfo": {
      "defaultValue": "",
      "label": "Database Instance Name",
      "name": "instance_name",
      "options": {
       "autoCreated": null,
       "validationRegex": null,
       "widgetType": "text"
      },
      "widgetType": "text"
     }
    },
    "port": {
     "currentValue": "5432",
     "nuid": "32e8549e-a510-470b-98e7-650d00624ce3",
     "typedWidgetInfo": {
      "autoCreated": false,
      "defaultValue": "5432",
      "label": "Port",
      "name": "port",
      "options": {
       "validationRegex": null,
       "widgetDisplayType": "Text"
      },
      "parameterDataType": "String"
     },
     "widgetInfo": {
      "defaultValue": "5432",
      "label": "Port",
      "name": "port",
      "options": {
       "autoCreated": null,
       "validationRegex": null,
       "widgetType": "text"
      },
      "widgetType": "text"
     }
    },
    "sslmode": {
     "currentValue": "require",
     "nuid": "3259d9f4-fa1f-4cef-a69f-e0a604b5dbff",
     "typedWidgetInfo": {
      "autoCreated": false,
      "defaultValue": "require",
      "label": "SSL Mode",
      "name": "sslmode",
      "options": {
       "choices": [
        "disable",
        "allow",
        "prefer",
        "require",
        "verify-ca",
        "verify-full"
       ],
       "fixedDomain": true,
       "multiselect": false,
       "widgetDisplayType": "Dropdown"
      },
      "parameterDataType": "String"
     },
     "widgetInfo": {
      "defaultValue": "require",
      "label": "SSL Mode",
      "name": "sslmode",
      "options": {
       "autoCreated": null,
       "choices": [
        "disable",
        "allow",
        "prefer",
        "require",
        "verify-ca",
        "verify-full"
       ],
       "widgetType": "dropdown"
      },
      "widgetType": "dropdown"
     }
    }
   }
  },
  "language_info": {
   "name": "python"
  }
 },
 "nbformat": 4,
 "nbformat_minor": 0
}
